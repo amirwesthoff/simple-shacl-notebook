{
 "cells": [
  {
   "cell_type": "markdown",
   "metadata": {},
   "source": [
    "# SHACL validation using pySHACL\n",
    "\n",
    "In short, pySHACL can be used to perform RDF data validation by comparing a shapes graph to a data graph. The shapes graph will need to contain shapes made using the SHACL vocabulary."
   ]
  },
  {
   "cell_type": "code",
   "execution_count": 10,
   "metadata": {},
   "outputs": [],
   "source": [
    "from rdflib import Graph\n",
    "from pyshacl import validate\n"
   ]
  },
  {
   "cell_type": "code",
   "execution_count": 11,
   "metadata": {},
   "outputs": [
    {
     "data": {
      "text/plain": [
       "<Graph identifier=N7fd63a6d5ab64d229211ed397ca230d1 (<class 'rdflib.graph.Graph'>)>"
      ]
     },
     "execution_count": 11,
     "metadata": {},
     "output_type": "execute_result"
    }
   ],
   "source": [
    "# Load RDF data\n",
    "data_graph = Graph()\n",
    "data_graph.parse(\"data.ttl\")"
   ]
  },
  {
   "cell_type": "markdown",
   "metadata": {},
   "source": [
    "The example data comes from the [SHACL specification](https://www.w3.org/TR/shacl/). See https://book.validatingrdf.com/bookHtml011.html for more examples."
   ]
  },
  {
   "cell_type": "code",
   "execution_count": 12,
   "metadata": {},
   "outputs": [
    {
     "data": {
      "text/plain": [
       "<Graph identifier=N0bc9d588737d4ce49dc5573eecb1f4ef (<class 'rdflib.graph.Graph'>)>"
      ]
     },
     "execution_count": 12,
     "metadata": {},
     "output_type": "execute_result"
    }
   ],
   "source": [
    "# Load SHACL shapes\n",
    "shapes_graph = Graph()\n",
    "shapes_graph.parse(\"shapes.ttl\")"
   ]
  },
  {
   "cell_type": "markdown",
   "metadata": {},
   "source": [
    "The SHACL shapes also come from the [SHACL specification](https://www.w3.org/TR/shacl/). See https://book.validatingrdf.com/bookHtml011.html for more examples. It might be useful to have an LLM explain these shapes (and more advanced examples) in natural language."
   ]
  },
  {
   "cell_type": "code",
   "execution_count": 13,
   "metadata": {},
   "outputs": [
    {
     "name": "stdout",
     "output_type": "stream",
     "text": [
      "False Validation Report\n",
      "Conforms: False\n",
      "Results (4):\n",
      "Constraint Violation in MaxCountConstraintComponent (http://www.w3.org/ns/shacl#MaxCountConstraintComponent):\n",
      "\tSeverity: sh:Violation\n",
      "\tSource Shape: [ sh:datatype xsd:string ; sh:maxCount Literal(\"1\", datatype=xsd:integer) ; sh:path ex:ssn ; sh:pattern Literal(\"^\\d{3}-\\d{2}-\\d{4}$\") ]\n",
      "\tFocus Node: ex:Bob\n",
      "\tResult Path: ex:ssn\n",
      "\tMessage: More than 1 values on ex:Bob->ex:ssn\n",
      "Constraint Violation in PatternConstraintComponent (http://www.w3.org/ns/shacl#PatternConstraintComponent):\n",
      "\tSeverity: sh:Violation\n",
      "\tSource Shape: [ sh:datatype xsd:string ; sh:maxCount Literal(\"1\", datatype=xsd:integer) ; sh:path ex:ssn ; sh:pattern Literal(\"^\\d{3}-\\d{2}-\\d{4}$\") ]\n",
      "\tFocus Node: ex:Alice\n",
      "\tValue Node: Literal(\"987-65-432A\")\n",
      "\tResult Path: ex:ssn\n",
      "\tMessage: Value does not match pattern '^\\d{3}-\\d{2}-\\d{4}$'\n",
      "Constraint Violation in ClassConstraintComponent (http://www.w3.org/ns/shacl#ClassConstraintComponent):\n",
      "\tSeverity: sh:Violation\n",
      "\tSource Shape: [ sh:class ex:Company ; sh:nodeKind sh:IRI ; sh:path ex:worksFor ]\n",
      "\tFocus Node: ex:Calvin\n",
      "\tValue Node: ex:UntypedCompany\n",
      "\tResult Path: ex:worksFor\n",
      "\tMessage: Value does not have class ex:Company\n",
      "Constraint Violation in ClosedConstraintComponent (http://www.w3.org/ns/shacl#ClosedConstraintComponent):\n",
      "\tSeverity: sh:Violation\n",
      "\tSource Shape: ex:PersonShape\n",
      "\tFocus Node: ex:Calvin\n",
      "\tValue Node: Literal(\"1971-07-07\", datatype=xsd:date)\n",
      "\tResult Path: ex:birthDate\n",
      "\tMessage: Node ex:Calvin is closed. It cannot have value: Literal(\"1971-07-07\", datatype=xsd:date)\n",
      "\n"
     ]
    }
   ],
   "source": [
    "# SHACL validation\n",
    "conforms, report_graph, report_text = validate(\n",
    "    data_graph,\n",
    "    shacl_graph=shapes_graph,\n",
    "    inference=\"rdfs\",  # Enables basic reasoning\n",
    "    abort_on_first=False,\n",
    "    meta_shacl=False,\n",
    "    advanced=True,\n",
    "    debug=False\n",
    ")\n",
    "print(conforms, report_text)"
   ]
  },
  {
   "cell_type": "markdown",
   "metadata": {},
   "source": [
    "Note that the validation output can also be exported as highly detailed RDF data (`report_graph`). The two printed variables `conforms` and `report_text` are human readable text.\n",
    "\n",
    "See https://github.com/RDFLib/pySHACL#python-module-use for more information on module usage of pySHACL"
   ]
  },
  {
   "cell_type": "code",
   "execution_count": null,
   "metadata": {},
   "outputs": [],
   "source": []
  }
 ],
 "metadata": {
  "kernelspec": {
   "display_name": "Python 3",
   "language": "python",
   "name": "python3"
  },
  "language_info": {
   "codemirror_mode": {
    "name": "ipython",
    "version": 3
   },
   "file_extension": ".py",
   "mimetype": "text/x-python",
   "name": "python",
   "nbconvert_exporter": "python",
   "pygments_lexer": "ipython3",
   "version": "3.10.2"
  }
 },
 "nbformat": 4,
 "nbformat_minor": 2
}
